{
 "metadata": {
  "language": "Julia",
  "name": "",
  "signature": "sha256:75f594bd92b3a62d1af6f375181cbf71ff105f3ab0e602e76cdb16e066773b59"
 },
 "nbformat": 3,
 "nbformat_minor": 0,
 "worksheets": [
  {
   "cells": [
    {
     "cell_type": "code",
     "collapsed": false,
     "input": [
      "include(\"cla.jl\")"
     ],
     "language": "python",
     "metadata": {},
     "outputs": [
      {
       "metadata": {},
       "output_type": "pyout",
       "prompt_number": 21,
       "text": [
        "calculate_turningpoints (generic function with 1 method)"
       ]
      }
     ],
     "prompt_number": 21
    },
    {
     "cell_type": "code",
     "collapsed": false,
     "input": [
      "A=rand(5,4)\n",
      "\u03a3=A'A\n",
      "\u03bc=rand(4)"
     ],
     "language": "python",
     "metadata": {},
     "outputs": [
      {
       "metadata": {},
       "output_type": "pyout",
       "prompt_number": 22,
       "text": [
        "4-element Array{Float64,1}:\n",
        " 0.534159 \n",
        " 0.0743105\n",
        " 0.263593 \n",
        " 0.719333 "
       ]
      }
     ],
     "prompt_number": 22
    },
    {
     "cell_type": "code",
     "collapsed": false,
     "input": [
      "result = calculate_turningpoints(\u03bc, \u03a3)"
     ],
     "language": "python",
     "metadata": {},
     "outputs": [
      {
       "metadata": {},
       "output_type": "pyout",
       "prompt_number": 23,
       "text": [
        "5-element Array{Any,1}:\n",
        " [0.0,0.0,0.0,1.0]                   \n",
        " [0.0,0.0,0.0,1.0]                   \n",
        " [0.0147536,1.11022e-16,0.0,0.985246]\n",
        " [0.000103995,0.999896,0.0,0.0]      \n",
        " [0.0,1.0,0.0,0.0]                   "
       ]
      }
     ],
     "prompt_number": 23
    },
    {
     "cell_type": "code",
     "collapsed": false,
     "input": [
      "using PyCall"
     ],
     "language": "python",
     "metadata": {},
     "outputs": [],
     "prompt_number": 25
    },
    {
     "cell_type": "code",
     "collapsed": false,
     "input": [
      "unshift!(PyVector(pyimport(\"sys\")[\"path\"]), \n",
      "  \"/home/andras/workspace/fast_critical_line_algorithm/src\")"
     ],
     "language": "python",
     "metadata": {},
     "outputs": [
      {
       "metadata": {},
       "output_type": "pyout",
       "prompt_number": 6,
       "text": [
        "10-element Any PyVector:\n",
        " \"/home/andras/workspace/fast_critical_line_algorithm/src\"                   \n",
        " \"/home/andras/anaconda/lib/python27.zip\"                                    \n",
        " \"/home/andras/anaconda/lib/python2.7\"                                       \n",
        " \"/home/andras/anaconda/lib/python2.7/plat-linux2\"                           \n",
        " \"/home/andras/anaconda/lib/python2.7/lib-tk\"                                \n",
        " \"/home/andras/anaconda/lib/python2.7/lib-old\"                               \n",
        " \"/home/andras/anaconda/lib/python2.7/lib-dynload\"                           \n",
        " \"/home/andras/anaconda/lib/python2.7/site-packages\"                         \n",
        " \"/home/andras/anaconda/lib/python2.7/site-packages/PIL\"                     \n",
        " \"/home/andras/anaconda/lib/python2.7/site-packages/setuptools-3.6-py2.7.egg\""
       ]
      }
     ],
     "prompt_number": 6
    },
    {
     "cell_type": "code",
     "collapsed": false,
     "input": [
      "@pyimport cla as pycla"
     ],
     "language": "python",
     "metadata": {},
     "outputs": [],
     "prompt_number": 26
    },
    {
     "cell_type": "code",
     "collapsed": false,
     "input": [
      "pyresult = pycla.turningpoints(\u03bc, \u03a3)"
     ],
     "language": "python",
     "metadata": {},
     "outputs": [
      {
       "metadata": {},
       "output_type": "pyout",
       "prompt_number": 27,
       "text": [
        "([0.719333,0.716601,0.515227,0.0743105],[1.48862,1.48553,1.28347,1.0734],\n",
        "4x4 Array{Float64,2}:\n",
        " -1.38778e-16   0.0147536    0.0       0.0\n",
        "  0.0          -3.33067e-16  0.316432  1.0\n",
        "  0.0           0.0          0.0       0.0\n",
        "  1.0           0.985246     0.683568  0.0,\n",
        "\n",
        "[1.71571,1.64847,1.12997,-0.007053])"
       ]
      }
     ],
     "prompt_number": 27
    },
    {
     "cell_type": "code",
     "collapsed": false,
     "input": [
      "pyresult[3]'"
     ],
     "language": "python",
     "metadata": {},
     "outputs": [
      {
       "metadata": {},
       "output_type": "pyout",
       "prompt_number": 28,
       "text": [
        "4x4 Array{Float64,2}:\n",
        " -1.38778e-16   0.0          0.0  1.0     \n",
        "  0.0147536    -3.33067e-16  0.0  0.985246\n",
        "  0.0           0.316432     0.0  0.683568\n",
        "  0.0           1.0          0.0  0.0     "
       ]
      }
     ],
     "prompt_number": 28
    },
    {
     "cell_type": "code",
     "collapsed": false,
     "input": [],
     "language": "python",
     "metadata": {},
     "outputs": []
    }
   ],
   "metadata": {}
  }
 ]
}