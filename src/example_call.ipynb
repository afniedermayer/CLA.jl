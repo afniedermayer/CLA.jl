{
 "metadata": {
  "language": "Julia",
  "name": "",
  "signature": "sha256:294696f8f9674991ecee1309a5a4da53e333296164680a29bc3034eaa38b14a1"
 },
 "nbformat": 3,
 "nbformat_minor": 0,
 "worksheets": [
  {
   "cells": [
    {
     "cell_type": "code",
     "collapsed": false,
     "input": [
      "include(\"cla.jl\")"
     ],
     "language": "python",
     "metadata": {},
     "outputs": [
      {
       "metadata": {},
       "output_type": "pyout",
       "prompt_number": 86,
       "text": [
        "calculate_turningpoints (generic function with 1 method)"
       ]
      }
     ],
     "prompt_number": 86
    },
    {
     "cell_type": "code",
     "collapsed": false,
     "input": [
      "A=rand(5,4)\n",
      "\u03a3=A'A\n",
      "\u03bc=rand(4)"
     ],
     "language": "python",
     "metadata": {},
     "outputs": [
      {
       "metadata": {},
       "output_type": "pyout",
       "prompt_number": 29,
       "text": [
        "4-element Array{Float64,1}:\n",
        " 0.531461 \n",
        " 0.0143341\n",
        " 0.416709 \n",
        " 0.356083 "
       ]
      }
     ],
     "prompt_number": 29
    },
    {
     "cell_type": "code",
     "collapsed": false,
     "input": [
      "result = calculate_turningpoints(\u03bc, \u03a3)"
     ],
     "language": "python",
     "metadata": {},
     "outputs": [
      {
       "metadata": {},
       "output_type": "pyout",
       "prompt_number": 87,
       "text": [
        "4-element Array{Any,1}:\n",
        " [1.0,0.0,0.0,0.0]                   \n",
        " [0.422808,-2.22045e-16,0.0,0.577192]\n",
        " [0.487557,0.512443,0.0,0.0]         \n",
        " [0.0,1.0,0.0,0.0]                   "
       ]
      }
     ],
     "prompt_number": 87
    },
    {
     "cell_type": "code",
     "collapsed": false,
     "input": [
      "using PyCall"
     ],
     "language": "python",
     "metadata": {},
     "outputs": [],
     "prompt_number": 33
    },
    {
     "cell_type": "code",
     "collapsed": false,
     "input": [
      "unshift!(PyVector(pyimport(\"sys\")[\"path\"]), \n",
      "  \"/home/andras/workspace/fast_critical_line_algorithm/src\")"
     ],
     "language": "python",
     "metadata": {},
     "outputs": [
      {
       "metadata": {},
       "output_type": "pyout",
       "prompt_number": 34,
       "text": [
        "11-element Any PyVector:\n",
        " \"/home/andras/workspace/fast_critical_line_algorithm/src\"                   \n",
        " \"/home/andras/workspace/fast_critical_line_algorithm/src\"                   \n",
        " \"/home/andras/anaconda/lib/python27.zip\"                                    \n",
        " \"/home/andras/anaconda/lib/python2.7\"                                       \n",
        " \"/home/andras/anaconda/lib/python2.7/plat-linux2\"                           \n",
        " \"/home/andras/anaconda/lib/python2.7/lib-tk\"                                \n",
        " \"/home/andras/anaconda/lib/python2.7/lib-old\"                               \n",
        " \"/home/andras/anaconda/lib/python2.7/lib-dynload\"                           \n",
        " \"/home/andras/anaconda/lib/python2.7/site-packages\"                         \n",
        " \"/home/andras/anaconda/lib/python2.7/site-packages/PIL\"                     \n",
        " \"/home/andras/anaconda/lib/python2.7/site-packages/setuptools-3.6-py2.7.egg\""
       ]
      }
     ],
     "prompt_number": 34
    },
    {
     "cell_type": "code",
     "collapsed": false,
     "input": [
      "@pyimport cla as pycla"
     ],
     "language": "python",
     "metadata": {},
     "outputs": [],
     "prompt_number": 35
    },
    {
     "cell_type": "code",
     "collapsed": false,
     "input": [
      "pyresult = pycla.turningpoints(\u03bc, \u03a3)"
     ],
     "language": "python",
     "metadata": {},
     "outputs": [
      {
       "metadata": {},
       "output_type": "pyout",
       "prompt_number": 36,
       "text": [
        "([0.531461,0.430234,0.266463,0.0143341],[1.30031,1.15954,1.05037,1.02599],\n",
        "4x4 Array{Float64,2}:\n",
        "  1.0          0.422808     0.487557  0.0\n",
        "  0.0          1.11022e-15  0.512443  1.0\n",
        "  0.0          0.0          0.0       0.0\n",
        " -6.10623e-16  0.577192     0.0       0.0,\n",
        "\n",
        "[2.53957,0.881212,0.591941,-0.39113])"
       ]
      }
     ],
     "prompt_number": 36
    },
    {
     "cell_type": "code",
     "collapsed": false,
     "input": [
      "pyresult[3]'"
     ],
     "language": "python",
     "metadata": {},
     "outputs": [
      {
       "metadata": {},
       "output_type": "pyout",
       "prompt_number": 37,
       "text": [
        "4x4 Array{Float64,2}:\n",
        " 1.0       0.0          0.0  -6.10623e-16\n",
        " 0.422808  1.11022e-15  0.0   0.577192   \n",
        " 0.487557  0.512443     0.0   0.0        \n",
        " 0.0       1.0          0.0   0.0        "
       ]
      }
     ],
     "prompt_number": 37
    },
    {
     "cell_type": "code",
     "collapsed": false,
     "input": [
      "hcat(result...)'"
     ],
     "language": "python",
     "metadata": {},
     "outputs": [
      {
       "metadata": {},
       "output_type": "pyout",
       "prompt_number": 88,
       "text": [
        "4x4 Array{Float64,2}:\n",
        " 1.0        0.0          0.0  0.0     \n",
        " 0.422808  -2.22045e-16  0.0  0.577192\n",
        " 0.487557   0.512443     0.0  0.0     \n",
        " 0.0        1.0          0.0  0.0     "
       ]
      }
     ],
     "prompt_number": 88
    },
    {
     "cell_type": "code",
     "collapsed": false,
     "input": [],
     "language": "python",
     "metadata": {},
     "outputs": []
    }
   ],
   "metadata": {}
  }
 ]
}