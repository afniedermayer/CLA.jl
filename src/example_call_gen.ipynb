{
 "metadata": {
  "language": "Julia",
  "name": "",
  "signature": "sha256:e604bcce99a64446914e1e3bc6d384a781192f0373fda091122ed901bcbf8b30"
 },
 "nbformat": 3,
 "nbformat_minor": 0,
 "worksheets": [
  {
   "cells": [
    {
     "cell_type": "code",
     "collapsed": false,
     "input": [
      "include(\"cla_gen.jl\")"
     ],
     "language": "python",
     "metadata": {},
     "outputs": [
      {
       "metadata": {},
       "output_type": "pyout",
       "prompt_number": 1,
       "text": [
        "asset_becomes_free (generic function with 1 method)"
       ]
      }
     ],
     "prompt_number": 1
    },
    {
     "cell_type": "code",
     "collapsed": false,
     "input": [
      "ndim = 4\n",
      "A=rand(ndim+1,ndim)\n",
      "\u03a3=A'A\n",
      "\u03bc=rand(ndim)\n",
      "l=zeros(ndim)\n",
      "u=.6*ones(ndim)"
     ],
     "language": "python",
     "metadata": {},
     "outputs": [
      {
       "metadata": {},
       "output_type": "pyout",
       "prompt_number": 2,
       "text": [
        "4-element Array{Float64,1}:\n",
        " 0.6\n",
        " 0.6\n",
        " 0.6\n",
        " 0.6"
       ]
      }
     ],
     "prompt_number": 2
    },
    {
     "cell_type": "code",
     "collapsed": false,
     "input": [
      "@time result, \u03bblist, Flist = calculate_turningpoints_general(\u03bc, \u03a3, l, u)"
     ],
     "language": "python",
     "metadata": {},
     "outputs": [
      {
       "output_type": "stream",
       "stream": "stdout",
       "text": [
        "elapsed time: 0."
       ]
      },
      {
       "output_type": "stream",
       "stream": "stdout",
       "text": [
        "000857306 seconds (313688 bytes allocated)\n"
       ]
      },
      {
       "metadata": {},
       "output_type": "pyout",
       "prompt_number": 4,
       "text": [
        "({[1.77636e-15,0.4,0.6,0.0],[0.4,0.0,0.6,0.0],[0.4,0.0,0.6,0.0],[0.440125,0.0,0.559875,-1.11022e-16],[0.6,0.0,0.142728,0.257272],[0.6,0.0,0.0,0.4],[0.6,0.0,0.0,0.4],[0.4,0.0,0.0,0.6]},{8.359016119135095,3.855022451575818,-0.2513186604352828,-0.3135903431802709,-0.5701878720144524,-0.7110076862732467,-0.8613556403552342,-1.6049234090182969},{[2,1],[1],[1,3],[1,3,4],[3,4],[4],[4,1],[1]})"
       ]
      }
     ],
     "prompt_number": 4
    },
    {
     "cell_type": "code",
     "collapsed": false,
     "input": [
      "result"
     ],
     "language": "python",
     "metadata": {},
     "outputs": [
      {
       "metadata": {},
       "output_type": "pyout",
       "prompt_number": 5,
       "text": [
        "8-element Array{Any,1}:\n",
        " [1.77636e-15,0.4,0.6,0.0]           \n",
        " [0.4,0.0,0.6,0.0]                   \n",
        " [0.4,0.0,0.6,0.0]                   \n",
        " [0.440125,0.0,0.559875,-1.11022e-16]\n",
        " [0.6,0.0,0.142728,0.257272]         \n",
        " [0.6,0.0,0.0,0.4]                   \n",
        " [0.6,0.0,0.0,0.4]                   \n",
        " [0.4,0.0,0.0,0.6]                   "
       ]
      }
     ],
     "prompt_number": 5
    },
    {
     "cell_type": "code",
     "collapsed": false,
     "input": [
      "\u03bblist"
     ],
     "language": "python",
     "metadata": {},
     "outputs": [
      {
       "metadata": {},
       "output_type": "pyout",
       "prompt_number": 6,
       "text": [
        "8-element Array{Any,1}:\n",
        "  8.35902 \n",
        "  3.85502 \n",
        " -0.251319\n",
        " -0.31359 \n",
        " -0.570188\n",
        " -0.711008\n",
        " -0.861356\n",
        " -1.60492 "
       ]
      }
     ],
     "prompt_number": 6
    },
    {
     "cell_type": "code",
     "collapsed": false,
     "input": [
      "[-diff(\u03bblist) [10eps(\u03bb) for \u03bb in \u03bblist[1:end-1]]]"
     ],
     "language": "python",
     "metadata": {},
     "outputs": [
      {
       "metadata": {},
       "output_type": "pyout",
       "prompt_number": 7,
       "text": [
        "7x2 Array{Any,2}:\n",
        " 4.50399    1.77636e-14\n",
        " 4.10634    4.44089e-15\n",
        " 0.0622717  5.55112e-16\n",
        " 0.256598   5.55112e-16\n",
        " 0.14082    1.11022e-15\n",
        " 0.150348   1.11022e-15\n",
        " 0.743568   1.11022e-15"
       ]
      }
     ],
     "prompt_number": 7
    },
    {
     "cell_type": "code",
     "collapsed": false,
     "input": [
      "Flist"
     ],
     "language": "python",
     "metadata": {},
     "outputs": [
      {
       "metadata": {},
       "output_type": "pyout",
       "prompt_number": 8,
       "text": [
        "8-element Array{Any,1}:\n",
        " [2,1]  \n",
        " [1]    \n",
        " [1,3]  \n",
        " [1,3,4]\n",
        " [3,4]  \n",
        " [4]    \n",
        " [4,1]  \n",
        " [1]    "
       ]
      }
     ],
     "prompt_number": 8
    },
    {
     "cell_type": "code",
     "collapsed": false,
     "input": [
      "collect(zip(\u03bblist, Flist))"
     ],
     "language": "python",
     "metadata": {},
     "outputs": [
      {
       "metadata": {},
       "output_type": "pyout",
       "prompt_number": 9,
       "text": [
        "8-element Array{(Any,Any),1}:\n",
        " (8.359016119135095,[2,1])    \n",
        " (3.855022451575818,[1])      \n",
        " (-0.2513186604352828,[1,3])  \n",
        " (-0.3135903431802709,[1,3,4])\n",
        " (-0.5701878720144524,[3,4])  \n",
        " (-0.7110076862732467,[4])    \n",
        " (-0.8613556403552342,[4,1])  \n",
        " (-1.6049234090182969,[1])    "
       ]
      }
     ],
     "prompt_number": 9
    },
    {
     "cell_type": "code",
     "collapsed": false,
     "input": [
      "using PyCall"
     ],
     "language": "python",
     "metadata": {},
     "outputs": [],
     "prompt_number": 10
    },
    {
     "cell_type": "code",
     "collapsed": false,
     "input": [
      "unshift!(PyVector(pyimport(\"sys\")[\"path\"]), \n",
      "  \"/home/andras/workspace/fast_critical_line_algorithm/src\")"
     ],
     "language": "python",
     "metadata": {},
     "outputs": [
      {
       "metadata": {},
       "output_type": "pyout",
       "prompt_number": 11,
       "text": [
        "10-element Any PyVector:\n",
        " \"/home/andras/workspace/fast_critical_line_algorithm/src\"                   \n",
        " \"/home/andras/anaconda/lib/python27.zip\"                                    \n",
        " \"/home/andras/anaconda/lib/python2.7\"                                       \n",
        " \"/home/andras/anaconda/lib/python2.7/plat-linux2\"                           \n",
        " \"/home/andras/anaconda/lib/python2.7/lib-tk\"                                \n",
        " \"/home/andras/anaconda/lib/python2.7/lib-old\"                               \n",
        " \"/home/andras/anaconda/lib/python2.7/lib-dynload\"                           \n",
        " \"/home/andras/anaconda/lib/python2.7/site-packages\"                         \n",
        " \"/home/andras/anaconda/lib/python2.7/site-packages/PIL\"                     \n",
        " \"/home/andras/anaconda/lib/python2.7/site-packages/setuptools-3.6-py2.7.egg\""
       ]
      }
     ],
     "prompt_number": 11
    },
    {
     "cell_type": "code",
     "collapsed": false,
     "input": [
      "@pyimport cla as pycla"
     ],
     "language": "python",
     "metadata": {},
     "outputs": [],
     "prompt_number": 12
    },
    {
     "cell_type": "code",
     "collapsed": false,
     "input": [
      "@time pyresult = pycla.turningpoints(\u03bc, \u03a3, l, u; MaxNTP=5*length(\u03bc))"
     ],
     "language": "python",
     "metadata": {},
     "outputs": [
      {
       "output_type": "stream",
       "stream": "stdout",
       "text": [
        "elapsed time: 0."
       ]
      },
      {
       "output_type": "stream",
       "stream": "stdout",
       "text": [
        "004571949 seconds (13416 bytes allocated)\n"
       ]
      },
      {
       "metadata": {},
       "output_type": "pyout",
       "prompt_number": 14,
       "text": [
        "([0.719375,0.661904,0.661904,0.644854,0.368621,0.253062,0.253062,0.176121],[1.04844,0.630292,0.630292,0.637887,0.806864,0.893914,0.893914,0.994405],\n",
        "4x8 Array{Float64,2}:\n",
        " -3.88578e-16  0.4  0.4  0.440125     0.6       0.6  0.6  0.4\n",
        "  0.4          0.0  0.0  0.0          0.0       0.0  0.0  0.0\n",
        "  0.6          0.6  0.6  0.559875     0.142728  0.0  0.0  0.0\n",
        "  0.0          0.0  0.0  3.33067e-16  0.257272  0.4  0.4  0.6,\n",
        "\n",
        "[8.35902,3.85502,-0.251319,-0.31359,-0.570188,-0.711008,-0.861356,-1.60492])"
       ]
      }
     ],
     "prompt_number": 14
    },
    {
     "cell_type": "code",
     "collapsed": false,
     "input": [
      "pyresult[3]'"
     ],
     "language": "python",
     "metadata": {},
     "outputs": [
      {
       "metadata": {},
       "output_type": "pyout",
       "prompt_number": 15,
       "text": [
        "8x4 Array{Float64,2}:\n",
        " -3.88578e-16  0.4  0.6       0.0        \n",
        "  0.4          0.0  0.6       0.0        \n",
        "  0.4          0.0  0.6       0.0        \n",
        "  0.440125     0.0  0.559875  3.33067e-16\n",
        "  0.6          0.0  0.142728  0.257272   \n",
        "  0.6          0.0  0.0       0.4        \n",
        "  0.6          0.0  0.0       0.4        \n",
        "  0.4          0.0  0.0       0.6        "
       ]
      }
     ],
     "prompt_number": 15
    },
    {
     "cell_type": "code",
     "collapsed": false,
     "input": [
      "hcat(result...)'"
     ],
     "language": "python",
     "metadata": {},
     "outputs": [
      {
       "metadata": {},
       "output_type": "pyout",
       "prompt_number": 16,
       "text": [
        "8x4 Array{Float64,2}:\n",
        " 1.77636e-15  0.4  0.6        0.0        \n",
        " 0.4          0.0  0.6        0.0        \n",
        " 0.4          0.0  0.6        0.0        \n",
        " 0.440125     0.0  0.559875  -1.11022e-16\n",
        " 0.6          0.0  0.142728   0.257272   \n",
        " 0.6          0.0  0.0        0.4        \n",
        " 0.6          0.0  0.0        0.4        \n",
        " 0.4          0.0  0.0        0.6        "
       ]
      }
     ],
     "prompt_number": 16
    },
    {
     "cell_type": "code",
     "collapsed": false,
     "input": [
      "pyresult[3]'-hcat(result...)'"
     ],
     "language": "python",
     "metadata": {},
     "outputs": [
      {
       "metadata": {},
       "output_type": "pyout",
       "prompt_number": 17,
       "text": [
        "8x4 Array{Float64,2}:\n",
        " -2.16493e-15  1.27676e-15   0.0           0.0        \n",
        "  1.11022e-16  0.0           0.0           0.0        \n",
        "  1.11022e-16  0.0          -1.11022e-16   0.0        \n",
        " -1.11022e-16  0.0          -6.66134e-16   4.44089e-16\n",
        "  0.0          0.0          -1.94289e-16   3.88578e-16\n",
        "  0.0          0.0           0.0          -1.11022e-16\n",
        "  0.0          0.0           0.0           1.11022e-16\n",
        "  2.22045e-16  0.0           0.0           0.0        "
       ]
      }
     ],
     "prompt_number": 17
    },
    {
     "cell_type": "code",
     "collapsed": false,
     "input": [
      "maximum(abs(pyresult[3]'-hcat(result...)'))"
     ],
     "language": "python",
     "metadata": {},
     "outputs": [
      {
       "metadata": {},
       "output_type": "pyout",
       "prompt_number": 18,
       "text": [
        "2.1649348980190553e-15"
       ]
      }
     ],
     "prompt_number": 18
    },
    {
     "cell_type": "code",
     "collapsed": false,
     "input": [
      "pyresult[end]"
     ],
     "language": "python",
     "metadata": {},
     "outputs": [
      {
       "metadata": {},
       "output_type": "pyout",
       "prompt_number": 19,
       "text": [
        "8-element Array{Float64,1}:\n",
        "  8.35902 \n",
        "  3.85502 \n",
        " -0.251319\n",
        " -0.31359 \n",
        " -0.570188\n",
        " -0.711008\n",
        " -0.861356\n",
        " -1.60492 "
       ]
      }
     ],
     "prompt_number": 19
    },
    {
     "cell_type": "code",
     "collapsed": false,
     "input": [
      "\u03bblist"
     ],
     "language": "python",
     "metadata": {},
     "outputs": [
      {
       "metadata": {},
       "output_type": "pyout",
       "prompt_number": 20,
       "text": [
        "8-element Array{Any,1}:\n",
        "  8.35902 \n",
        "  3.85502 \n",
        " -0.251319\n",
        " -0.31359 \n",
        " -0.570188\n",
        " -0.711008\n",
        " -0.861356\n",
        " -1.60492 "
       ]
      }
     ],
     "prompt_number": 20
    },
    {
     "cell_type": "code",
     "collapsed": false,
     "input": [
      "maxlen=min(length(pyresult[end]), length(\u03bblist))"
     ],
     "language": "python",
     "metadata": {},
     "outputs": [
      {
       "metadata": {},
       "output_type": "pyout",
       "prompt_number": 21,
       "text": [
        "8"
       ]
      }
     ],
     "prompt_number": 21
    },
    {
     "cell_type": "code",
     "collapsed": false,
     "input": [
      "pyresult[end][1:maxlen]-\u03bblist[1:maxlen]"
     ],
     "language": "python",
     "metadata": {},
     "outputs": [
      {
       "metadata": {},
       "output_type": "pyout",
       "prompt_number": 22,
       "text": [
        "8-element Array{Any,1}:\n",
        "  1.59872e-14\n",
        "  1.33227e-15\n",
        " -1.66533e-16\n",
        "  2.22045e-16\n",
        " -5.55112e-16\n",
        "  1.11022e-16\n",
        " -1.55431e-15\n",
        " -2.22045e-15"
       ]
      }
     ],
     "prompt_number": 22
    },
    {
     "cell_type": "code",
     "collapsed": false,
     "input": [
      "sum(map(x->x==[0],diff({symdiff(Flist[i],Flist[i+1]) for i=1:length(Flist)-1})))"
     ],
     "language": "python",
     "metadata": {},
     "outputs": [
      {
       "metadata": {},
       "output_type": "pyout",
       "prompt_number": 23,
       "text": [
        "0"
       ]
      }
     ],
     "prompt_number": 23
    },
    {
     "cell_type": "code",
     "collapsed": false,
     "input": [
      "pyresult[end]-\u03bblist"
     ],
     "language": "python",
     "metadata": {},
     "outputs": [
      {
       "metadata": {},
       "output_type": "pyout",
       "prompt_number": 27,
       "text": [
        "8-element Array{Any,1}:\n",
        "  1.59872e-14\n",
        "  1.33227e-15\n",
        " -1.66533e-16\n",
        "  2.22045e-16\n",
        " -5.55112e-16\n",
        "  1.11022e-16\n",
        " -1.55431e-15\n",
        " -2.22045e-15"
       ]
      }
     ],
     "prompt_number": 27
    },
    {
     "cell_type": "code",
     "collapsed": false,
     "input": [
      "maximum(abs(convert(Array{Float64},pyresult[end]-\u03bblist)))"
     ],
     "language": "python",
     "metadata": {},
     "outputs": [
      {
       "metadata": {},
       "output_type": "pyout",
       "prompt_number": 28,
       "text": [
        "1.5987211554602254e-14"
       ]
      }
     ],
     "prompt_number": 28
    },
    {
     "cell_type": "code",
     "collapsed": false,
     "input": [],
     "language": "python",
     "metadata": {},
     "outputs": []
    }
   ],
   "metadata": {}
  }
 ]
}