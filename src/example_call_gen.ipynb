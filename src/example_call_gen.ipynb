{
 "metadata": {
  "language": "Julia",
  "name": "",
  "signature": "sha256:9ee5954e624caa33ca57bf58caa18529150e4203acf4a99244be543d45be9711"
 },
 "nbformat": 3,
 "nbformat_minor": 0,
 "worksheets": [
  {
   "cells": [
    {
     "cell_type": "code",
     "collapsed": false,
     "input": [
      "include(\"cla_gen.jl\")"
     ],
     "language": "python",
     "metadata": {},
     "outputs": [
      {
       "metadata": {},
       "output_type": "pyout",
       "prompt_number": 62,
       "text": [
        "asset_becomes_free (generic function with 1 method)"
       ]
      }
     ],
     "prompt_number": 62
    },
    {
     "cell_type": "code",
     "collapsed": false,
     "input": [
      "A=rand(5,4)\n",
      "\u03a3=A'A\n",
      "\u03bc=rand(4)\n",
      "l=zeros(4)\n",
      "u=.6*ones(4)"
     ],
     "language": "python",
     "metadata": {},
     "outputs": [
      {
       "metadata": {},
       "output_type": "pyout",
       "prompt_number": 34,
       "text": [
        "4-element Array{Float64,1}:\n",
        " 0.6\n",
        " 0.6\n",
        " 0.6\n",
        " 0.6"
       ]
      }
     ],
     "prompt_number": 34
    },
    {
     "cell_type": "code",
     "collapsed": false,
     "input": [
      "result, \u03bblist, Flist = calculate_turningpoints_general(\u03bc, \u03a3, l, u)"
     ],
     "language": "python",
     "metadata": {},
     "outputs": [
      {
       "metadata": {},
       "output_type": "pyout",
       "prompt_number": 63,
       "text": [
        "({[0.0,0.0,0.4,0.6],[0.0,0.0,0.6,0.4],[-6.66134e-16,0.0,0.6,0.4],[0.4,0.0,0.6,0.0],[0.4,-8.67362e-18,0.6,0.0],[0.043424,0.356576,0.6,0.0],[0.0,0.543887,0.456113,0.0],[0.0,0.6,0.4,0.0],[-1.11022e-16,0.6,0.4,0.0],[0.4,0.6,0.0,0.0]},{1.4625799677972557,1.2685733805391335,0.7170313686805168,0.33394415817508477,0.04867154233072535,-1.05904311906962,-1.4346341602186006,-1.5643206600305264,-1.6164150826257895,-3.7462612202979284},{[3,4],[4],[4,1],[1],[1,2],[1,2,3],[2,3],[3],[3,1],[1]})"
       ]
      }
     ],
     "prompt_number": 63
    },
    {
     "cell_type": "code",
     "collapsed": false,
     "input": [
      "result"
     ],
     "language": "python",
     "metadata": {},
     "outputs": [
      {
       "metadata": {},
       "output_type": "pyout",
       "prompt_number": 64,
       "text": [
        "10-element Array{Any,1}:\n",
        " [0.0,0.0,0.4,0.6]          \n",
        " [0.0,0.0,0.6,0.4]          \n",
        " [-6.66134e-16,0.0,0.6,0.4] \n",
        " [0.4,0.0,0.6,0.0]          \n",
        " [0.4,-8.67362e-18,0.6,0.0] \n",
        " [0.043424,0.356576,0.6,0.0]\n",
        " [0.0,0.543887,0.456113,0.0]\n",
        " [0.0,0.6,0.4,0.0]          \n",
        " [-1.11022e-16,0.6,0.4,0.0] \n",
        " [0.4,0.6,0.0,0.0]          "
       ]
      }
     ],
     "prompt_number": 64
    },
    {
     "cell_type": "code",
     "collapsed": false,
     "input": [
      "\u03bblist"
     ],
     "language": "python",
     "metadata": {},
     "outputs": [
      {
       "metadata": {},
       "output_type": "pyout",
       "prompt_number": 65,
       "text": [
        "10-element Array{Any,1}:\n",
        "  1.46258  \n",
        "  1.26857  \n",
        "  0.717031 \n",
        "  0.333944 \n",
        "  0.0486715\n",
        " -1.05904  \n",
        " -1.43463  \n",
        " -1.56432  \n",
        " -1.61642  \n",
        " -3.74626  "
       ]
      }
     ],
     "prompt_number": 65
    },
    {
     "cell_type": "code",
     "collapsed": false,
     "input": [
      "[-diff(\u03bblist) [10eps(\u03bb) for \u03bb in \u03bblist[1:end-1]]]"
     ],
     "language": "python",
     "metadata": {},
     "outputs": [
      {
       "metadata": {},
       "output_type": "pyout",
       "prompt_number": 66,
       "text": [
        "9x2 Array{Any,2}:\n",
        " 0.194007   2.22045e-15\n",
        " 0.551542   2.22045e-15\n",
        " 0.383087   1.11022e-15\n",
        " 0.285273   5.55112e-16\n",
        " 1.10771    6.93889e-17\n",
        " 0.375591   2.22045e-15\n",
        " 0.129686   2.22045e-15\n",
        " 0.0520944  2.22045e-15\n",
        " 2.12985    2.22045e-15"
       ]
      }
     ],
     "prompt_number": 66
    },
    {
     "cell_type": "code",
     "collapsed": false,
     "input": [
      "Flist"
     ],
     "language": "python",
     "metadata": {},
     "outputs": [
      {
       "metadata": {},
       "output_type": "pyout",
       "prompt_number": 68,
       "text": [
        "10-element Array{Any,1}:\n",
        " [3,4]  \n",
        " [4]    \n",
        " [4,1]  \n",
        " [1]    \n",
        " [1,2]  \n",
        " [1,2,3]\n",
        " [2,3]  \n",
        " [3]    \n",
        " [3,1]  \n",
        " [1]    "
       ]
      }
     ],
     "prompt_number": 68
    },
    {
     "cell_type": "code",
     "collapsed": false,
     "input": [
      "collect(zip(\u03bblist, Flist))"
     ],
     "language": "python",
     "metadata": {},
     "outputs": [
      {
       "metadata": {},
       "output_type": "pyout",
       "prompt_number": 69,
       "text": [
        "10-element Array{(Any,Any),1}:\n",
        " (1.4625799677972557,[3,4]) \n",
        " (1.2685733805391335,[4])   \n",
        " (0.7170313686805168,[4,1]) \n",
        " (0.33394415817508477,[1])  \n",
        " (0.04867154233072535,[1,2])\n",
        " (-1.05904311906962,[1,2,3])\n",
        " (-1.4346341602186006,[2,3])\n",
        " (-1.5643206600305264,[3])  \n",
        " (-1.6164150826257895,[3,1])\n",
        " (-3.7462612202979284,[1])  "
       ]
      }
     ],
     "prompt_number": 69
    },
    {
     "cell_type": "code",
     "collapsed": false,
     "input": [
      "using PyCall"
     ],
     "language": "python",
     "metadata": {},
     "outputs": [],
     "prompt_number": 50
    },
    {
     "cell_type": "code",
     "collapsed": false,
     "input": [
      "unshift!(PyVector(pyimport(\"sys\")[\"path\"]), \n",
      "  \"/home/andras/workspace/fast_critical_line_algorithm/src\")"
     ],
     "language": "python",
     "metadata": {},
     "outputs": [
      {
       "metadata": {},
       "output_type": "pyout",
       "prompt_number": 52,
       "text": [
        "10-element Any PyVector:\n",
        " \"/home/andras/workspace/fast_critical_line_algorithm/src\"                   \n",
        " \"/home/andras/anaconda/lib/python27.zip\"                                    \n",
        " \"/home/andras/anaconda/lib/python2.7\"                                       \n",
        " \"/home/andras/anaconda/lib/python2.7/plat-linux2\"                           \n",
        " \"/home/andras/anaconda/lib/python2.7/lib-tk\"                                \n",
        " \"/home/andras/anaconda/lib/python2.7/lib-old\"                               \n",
        " \"/home/andras/anaconda/lib/python2.7/lib-dynload\"                           \n",
        " \"/home/andras/anaconda/lib/python2.7/site-packages\"                         \n",
        " \"/home/andras/anaconda/lib/python2.7/site-packages/PIL\"                     \n",
        " \"/home/andras/anaconda/lib/python2.7/site-packages/setuptools-3.6-py2.7.egg\""
       ]
      }
     ],
     "prompt_number": 52
    },
    {
     "cell_type": "code",
     "collapsed": false,
     "input": [
      "@pyimport cla as pycla"
     ],
     "language": "python",
     "metadata": {},
     "outputs": [],
     "prompt_number": 53
    },
    {
     "cell_type": "code",
     "collapsed": false,
     "input": [
      "pyresult = pycla.turningpoints(\u03bc, \u03a3, l, u; MaxNTP=5*length(\u03bc))"
     ],
     "language": "python",
     "metadata": {},
     "outputs": [
      {
       "metadata": {},
       "output_type": "pyout",
       "prompt_number": 70,
       "text": [
        "([0.59576,0.529546,0.529546,0.339552,0.339552,0.264921,0.205009,0.185189,0.185189,0.127622],[1.19509,1.11687,1.11687,1.02358,1.02358,1.05977,1.12806,1.15411,1.15411,1.28089],\n",
        "4x10 Array{Float64,2}:\n",
        " 0.0  0.0  1.11022e-16  0.4  0.4  0.043424  0.0       0.0  -5.55112e-17  0.4\n",
        " 0.0  0.0  0.0          0.0  0.0  0.356576  0.543887  0.6   0.6          0.6\n",
        " 0.4  0.6  0.6          0.6  0.6  0.6       0.456113  0.4   0.4          0.0\n",
        " 0.6  0.4  0.4          0.0  0.0  0.0       0.0       0.0   0.0          0.0,\n",
        "\n",
        "[1.46258,1.26857,0.717031,0.333944,0.0486715,-1.05904,-1.43463,-1.56432,-1.61642,-3.74626])"
       ]
      }
     ],
     "prompt_number": 70
    },
    {
     "cell_type": "code",
     "collapsed": false,
     "input": [
      "pyresult[3]'"
     ],
     "language": "python",
     "metadata": {},
     "outputs": [
      {
       "metadata": {},
       "output_type": "pyout",
       "prompt_number": 71,
       "text": [
        "10x4 Array{Float64,2}:\n",
        "  0.0          0.0       0.4       0.6\n",
        "  0.0          0.0       0.6       0.4\n",
        "  1.11022e-16  0.0       0.6       0.4\n",
        "  0.4          0.0       0.6       0.0\n",
        "  0.4          0.0       0.6       0.0\n",
        "  0.043424     0.356576  0.6       0.0\n",
        "  0.0          0.543887  0.456113  0.0\n",
        "  0.0          0.6       0.4       0.0\n",
        " -5.55112e-17  0.6       0.4       0.0\n",
        "  0.4          0.6       0.0       0.0"
       ]
      }
     ],
     "prompt_number": 71
    },
    {
     "cell_type": "code",
     "collapsed": false,
     "input": [
      "hcat(result...)'"
     ],
     "language": "python",
     "metadata": {},
     "outputs": [
      {
       "metadata": {},
       "output_type": "pyout",
       "prompt_number": 72,
       "text": [
        "10x4 Array{Float64,2}:\n",
        "  0.0           0.0          0.4       0.6\n",
        "  0.0           0.0          0.6       0.4\n",
        " -6.66134e-16   0.0          0.6       0.4\n",
        "  0.4           0.0          0.6       0.0\n",
        "  0.4          -8.67362e-18  0.6       0.0\n",
        "  0.043424      0.356576     0.6       0.0\n",
        "  0.0           0.543887     0.456113  0.0\n",
        "  0.0           0.6          0.4       0.0\n",
        " -1.11022e-16   0.6          0.4       0.0\n",
        "  0.4           0.6          0.0       0.0"
       ]
      }
     ],
     "prompt_number": 72
    },
    {
     "cell_type": "code",
     "collapsed": false,
     "input": [
      "pyresult[3]'-hcat(result...)'"
     ],
     "language": "python",
     "metadata": {},
     "outputs": [
      {
       "metadata": {},
       "output_type": "pyout",
       "prompt_number": 73,
       "text": [
        "10x4 Array{Float64,2}:\n",
        "  0.0           0.0          -1.55431e-15   7.77156e-16\n",
        "  0.0           0.0           0.0          -5.55112e-17\n",
        "  7.77156e-16   0.0           0.0          -3.33067e-16\n",
        "  1.11022e-16   0.0           0.0           0.0        \n",
        " -1.11022e-16   8.67362e-18   0.0           0.0        \n",
        "  2.01228e-16   6.10623e-16  -5.55112e-16   0.0        \n",
        "  0.0          -1.11022e-15   7.77156e-16   0.0        \n",
        "  0.0           0.0           1.66533e-16   0.0        \n",
        "  5.55112e-17   0.0           3.33067e-16   0.0        \n",
        "  0.0           0.0           0.0           0.0        "
       ]
      }
     ],
     "prompt_number": 73
    },
    {
     "cell_type": "code",
     "collapsed": false,
     "input": [
      "pyresult[end]"
     ],
     "language": "python",
     "metadata": {},
     "outputs": [
      {
       "metadata": {},
       "output_type": "pyout",
       "prompt_number": 74,
       "text": [
        "10-element Array{Float64,1}:\n",
        "  1.46258  \n",
        "  1.26857  \n",
        "  0.717031 \n",
        "  0.333944 \n",
        "  0.0486715\n",
        " -1.05904  \n",
        " -1.43463  \n",
        " -1.56432  \n",
        " -1.61642  \n",
        " -3.74626  "
       ]
      }
     ],
     "prompt_number": 74
    },
    {
     "cell_type": "code",
     "collapsed": false,
     "input": [
      "\u03bblist"
     ],
     "language": "python",
     "metadata": {},
     "outputs": [
      {
       "metadata": {},
       "output_type": "pyout",
       "prompt_number": 75,
       "text": [
        "10-element Array{Any,1}:\n",
        "  1.46258  \n",
        "  1.26857  \n",
        "  0.717031 \n",
        "  0.333944 \n",
        "  0.0486715\n",
        " -1.05904  \n",
        " -1.43463  \n",
        " -1.56432  \n",
        " -1.61642  \n",
        " -3.74626  "
       ]
      }
     ],
     "prompt_number": 75
    },
    {
     "cell_type": "code",
     "collapsed": false,
     "input": [
      "pyresult[end]-\u03bblist"
     ],
     "language": "python",
     "metadata": {},
     "outputs": [
      {
       "metadata": {},
       "output_type": "pyout",
       "prompt_number": 76,
       "text": [
        "10-element Array{Any,1}:\n",
        "  2.22045e-16\n",
        " -1.55431e-15\n",
        " -2.22045e-16\n",
        " -5.55112e-17\n",
        " -2.15106e-15\n",
        " -1.9984e-15 \n",
        "  1.11022e-15\n",
        " -1.77636e-15\n",
        "  8.88178e-16\n",
        " -2.66454e-15"
       ]
      }
     ],
     "prompt_number": 76
    }
   ],
   "metadata": {}
  }
 ]
}